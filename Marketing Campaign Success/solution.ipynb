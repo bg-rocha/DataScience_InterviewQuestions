{
 "cells": [
  {
   "cell_type": "code",
   "execution_count": 1,
   "metadata": {},
   "outputs": [],
   "source": [
    "import pandas as pd"
   ]
  },
  {
   "cell_type": "markdown",
   "metadata": {},
   "source": [
    "# Problem Description\n",
    "\n",
    "You have a table of in-app purchases by user. Users that make their first in-app purchase are placed in a marketing campaign where they see call-to-actions for more in-app purchases. Find the number of users that made additional in-app purchases due to the success of the marketing campaign.\n",
    "\n",
    "\n",
    "The marketing campaign doesn't start until one day after the initial in-app purchase so users that make multiple purchases on the same day do not count, nor do we count users that make only the same purchases over time."
   ]
  },
  {
   "cell_type": "markdown",
   "metadata": {},
   "source": [
    "## First look at Data"
   ]
  },
  {
   "cell_type": "code",
   "execution_count": 3,
   "metadata": {},
   "outputs": [
    {
     "data": {
      "text/html": [
       "<div>\n",
       "<style scoped>\n",
       "    .dataframe tbody tr th:only-of-type {\n",
       "        vertical-align: middle;\n",
       "    }\n",
       "\n",
       "    .dataframe tbody tr th {\n",
       "        vertical-align: top;\n",
       "    }\n",
       "\n",
       "    .dataframe thead th {\n",
       "        text-align: right;\n",
       "    }\n",
       "</style>\n",
       "<table border=\"1\" class=\"dataframe\">\n",
       "  <thead>\n",
       "    <tr style=\"text-align: right;\">\n",
       "      <th></th>\n",
       "      <th>user_id</th>\n",
       "      <th>created_at</th>\n",
       "      <th>product_id</th>\n",
       "      <th>quantity</th>\n",
       "      <th>price</th>\n",
       "    </tr>\n",
       "  </thead>\n",
       "  <tbody>\n",
       "    <tr>\n",
       "      <th>0</th>\n",
       "      <td>10</td>\n",
       "      <td>2019-01-01 00:00:00</td>\n",
       "      <td>101</td>\n",
       "      <td>3</td>\n",
       "      <td>55</td>\n",
       "    </tr>\n",
       "    <tr>\n",
       "      <th>1</th>\n",
       "      <td>10</td>\n",
       "      <td>2019-01-02 00:00:00</td>\n",
       "      <td>119</td>\n",
       "      <td>5</td>\n",
       "      <td>29</td>\n",
       "    </tr>\n",
       "    <tr>\n",
       "      <th>2</th>\n",
       "      <td>10</td>\n",
       "      <td>2019-03-31 00:00:00</td>\n",
       "      <td>111</td>\n",
       "      <td>2</td>\n",
       "      <td>149</td>\n",
       "    </tr>\n",
       "  </tbody>\n",
       "</table>\n",
       "</div>"
      ],
      "text/plain": [
       "   user_id           created_at  product_id  quantity  price\n",
       "0       10  2019-01-01 00:00:00         101         3     55\n",
       "1       10  2019-01-02 00:00:00         119         5     29\n",
       "2       10  2019-03-31 00:00:00         111         2    149"
      ]
     },
     "execution_count": 3,
     "metadata": {},
     "output_type": "execute_result"
    }
   ],
   "source": [
    "mkt_campaign = pd.read_csv('marketing_campaign.csv')\n",
    "mkt_campaign.head(3)"
   ]
  },
  {
   "cell_type": "markdown",
   "metadata": {},
   "source": [
    "## Firsts Tougths\n",
    "* For every new user keep his first date and list of products\n",
    "\n",
    "* search if the same user_id has bougth other products at other day\n",
    "\n",
    "* count the users that apply for this rules"
   ]
  },
  {
   "cell_type": "markdown",
   "metadata": {},
   "source": [
    "## Data Analysis"
   ]
  },
  {
   "cell_type": "code",
   "execution_count": 4,
   "metadata": {},
   "outputs": [
    {
     "name": "stdout",
     "output_type": "stream",
     "text": [
      "<class 'pandas.core.frame.DataFrame'>\n",
      "RangeIndex: 102 entries, 0 to 101\n",
      "Data columns (total 5 columns):\n",
      " #   Column      Non-Null Count  Dtype \n",
      "---  ------      --------------  ----- \n",
      " 0   user_id     102 non-null    int64 \n",
      " 1   created_at  102 non-null    object\n",
      " 2   product_id  102 non-null    int64 \n",
      " 3   quantity    102 non-null    int64 \n",
      " 4   price       102 non-null    int64 \n",
      "dtypes: int64(4), object(1)\n",
      "memory usage: 4.1+ KB\n"
     ]
    }
   ],
   "source": [
    "#checking for missing values and format of columns\n",
    "mkt_campaign.info()"
   ]
  },
  {
   "cell_type": "markdown",
   "metadata": {},
   "source": [
    "There is no missing values, but date coumns are not in optimal format\n",
    "\n",
    "date -> to_datetime"
   ]
  },
  {
   "cell_type": "code",
   "execution_count": 5,
   "metadata": {},
   "outputs": [
    {
     "name": "stdout",
     "output_type": "stream",
     "text": [
      "<class 'pandas.core.frame.DataFrame'>\n",
      "RangeIndex: 102 entries, 0 to 101\n",
      "Data columns (total 5 columns):\n",
      " #   Column      Non-Null Count  Dtype         \n",
      "---  ------      --------------  -----         \n",
      " 0   user_id     102 non-null    int64         \n",
      " 1   created_at  102 non-null    datetime64[ns]\n",
      " 2   product_id  102 non-null    int64         \n",
      " 3   quantity    102 non-null    int64         \n",
      " 4   price       102 non-null    int64         \n",
      "dtypes: datetime64[ns](1), int64(4)\n",
      "memory usage: 4.1 KB\n"
     ]
    }
   ],
   "source": [
    "mkt_campaign.created_at = pd.to_datetime(mkt_campaign.created_at, format='%Y-%m-%d')\n",
    "mkt_campaign.info()"
   ]
  },
  {
   "cell_type": "markdown",
   "metadata": {},
   "source": [
    "Now that data is fixed lets start...\n",
    "## Solution"
   ]
  },
  {
   "cell_type": "markdown",
   "metadata": {},
   "source": [
    "### 1. More logical approach"
   ]
  },
  {
   "cell_type": "code",
   "execution_count": 16,
   "metadata": {},
   "outputs": [
    {
     "name": "stdout",
     "output_type": "stream",
     "text": [
      "Number of users:  23\n"
     ]
    }
   ],
   "source": [
    "#dropping useless columns and sortting by date\n",
    "df = mkt_campaign.drop(['quantity', 'price'], axis=1).sort_values('created_at')\n",
    "count = 0\n",
    "\n",
    "#looping trhougth unique user_id\n",
    "for id in list(df.user_id.unique()):\n",
    "    #first date\n",
    "    first_date= df[df.user_id == id]['created_at'].values[0]\n",
    "    #list of products bougths in the first_date\n",
    "    list_prod = list(df[(df.user_id == id) & (df.created_at == first_date)]['product_id'].values)\n",
    "\n",
    "    #searching for orders that match the rules\n",
    "    for i in range(df.shape[0]):\n",
    "        if (df.loc[i,'user_id'] == id) and (df.loc[i,'created_at'] > first_date) and (df.loc[i,'product_id'] not in list_prod):\n",
    "            count +=1 # if found, increment the count\n",
    "            break # if found, break the for and go the next user_id\n",
    "print('Number of users: ',count)"
   ]
  },
  {
   "cell_type": "markdown",
   "metadata": {},
   "source": [
    "### 2. Most efficient approach"
   ]
  },
  {
   "cell_type": "code",
   "execution_count": 15,
   "metadata": {},
   "outputs": [
    {
     "name": "stdout",
     "output_type": "stream",
     "text": [
      "Number of users:  23\n"
     ]
    }
   ],
   "source": [
    "#dropping useless columns and sortting by date\n",
    "df = mkt_campaign.drop(['quantity', 'price'], axis=1).sort_values('created_at')\n",
    "\n",
    "#dropping same products bougths by the same user \n",
    "df = df.drop_duplicates(subset=['user_id','product_id'])\n",
    "\n",
    "#dropping other dates of orders by the same user\n",
    "df = df.drop_duplicates(subset=['created_at', 'user_id'])\n",
    "\n",
    "#now that we have left only products bougths at different dates, we can groupby user and count\n",
    "df = df.groupby('user_id').count()\n",
    "\n",
    "#the users that have more than one register are the users that we are looking for\n",
    "print('Number of users: ', df[df[\"created_at\"]>1].shape[0])"
   ]
  }
 ],
 "metadata": {
  "interpreter": {
   "hash": "bfdc4d99f1ab502b0760b435ac150b655942685e3ddd4b4ca9aca6fdd97c2c23"
  },
  "kernelspec": {
   "display_name": "Python 3.8.8 64-bit ('base': conda)",
   "language": "python",
   "name": "python3"
  },
  "language_info": {
   "codemirror_mode": {
    "name": "ipython",
    "version": 3
   },
   "file_extension": ".py",
   "mimetype": "text/x-python",
   "name": "python",
   "nbconvert_exporter": "python",
   "pygments_lexer": "ipython3",
   "version": "3.8.8"
  },
  "orig_nbformat": 4
 },
 "nbformat": 4,
 "nbformat_minor": 2
}
