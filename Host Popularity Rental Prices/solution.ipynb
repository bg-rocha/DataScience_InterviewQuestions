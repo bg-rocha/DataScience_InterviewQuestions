{
 "cells": [
  {
   "cell_type": "code",
   "execution_count": 1,
   "metadata": {},
   "outputs": [],
   "source": [
    "import pandas as pd"
   ]
  },
  {
   "cell_type": "markdown",
   "metadata": {},
   "source": [
    "# Problem Description\n",
    "\n",
    "You’re given a table of rental property searches by users. The table consists of search results and outputs host information for searchers. Find the minimum, average, maximum rental prices for each host’s popularity rating. The host’s popularity rating is defined as below:\n",
    "\n",
    "    0 reviews: New\n",
    "\n",
    "    1 to 5 reviews: Rising\n",
    "\n",
    "    6 to 15 reviews: Trending Up\n",
    "\n",
    "    16 to 40 reviews: Popular\n",
    "\n",
    "    more than 40 reviews: Hot\n",
    "\n",
    "Tip: The `id` column in the table refers to the search ID. You'll need to create your own host_id by concating price, room_type, host_since, zipcode, and number_of_reviews.\n",
    "\n",
    "Output host popularity rating and their minimum, average and maximum rental prices."
   ]
  },
  {
   "cell_type": "markdown",
   "metadata": {},
   "source": [
    "## First look at Data"
   ]
  },
  {
   "cell_type": "code",
   "execution_count": 2,
   "metadata": {},
   "outputs": [
    {
     "data": {
      "text/html": [
       "<div>\n",
       "<style scoped>\n",
       "    .dataframe tbody tr th:only-of-type {\n",
       "        vertical-align: middle;\n",
       "    }\n",
       "\n",
       "    .dataframe tbody tr th {\n",
       "        vertical-align: top;\n",
       "    }\n",
       "\n",
       "    .dataframe thead th {\n",
       "        text-align: right;\n",
       "    }\n",
       "</style>\n",
       "<table border=\"1\" class=\"dataframe\">\n",
       "  <thead>\n",
       "    <tr style=\"text-align: right;\">\n",
       "      <th></th>\n",
       "      <th>id</th>\n",
       "      <th>price</th>\n",
       "      <th>property_type</th>\n",
       "      <th>room_type</th>\n",
       "      <th>amenities</th>\n",
       "      <th>accommodates</th>\n",
       "      <th>bathrooms</th>\n",
       "      <th>bed_type</th>\n",
       "      <th>cancellation_policy</th>\n",
       "      <th>cleaning_fee</th>\n",
       "      <th>city</th>\n",
       "      <th>host_identity_verified</th>\n",
       "      <th>host_response_rate</th>\n",
       "      <th>host_since</th>\n",
       "      <th>neighbourhood</th>\n",
       "      <th>number_of_reviews</th>\n",
       "      <th>review_scores_rating</th>\n",
       "      <th>zipcode</th>\n",
       "      <th>bedrooms</th>\n",
       "      <th>beds</th>\n",
       "    </tr>\n",
       "  </thead>\n",
       "  <tbody>\n",
       "    <tr>\n",
       "      <th>0</th>\n",
       "      <td>8284881</td>\n",
       "      <td>621.46</td>\n",
       "      <td>House</td>\n",
       "      <td>Entire home/apt</td>\n",
       "      <td>{TV,\"Cable TV\",Internet,\"Wireless Internet\",\"A...</td>\n",
       "      <td>8</td>\n",
       "      <td>3</td>\n",
       "      <td>Real Bed</td>\n",
       "      <td>strict</td>\n",
       "      <td>True</td>\n",
       "      <td>LA</td>\n",
       "      <td>f</td>\n",
       "      <td>100%</td>\n",
       "      <td>2016-11-01</td>\n",
       "      <td>Pacific Palisades</td>\n",
       "      <td>1</td>\n",
       "      <td>NaN</td>\n",
       "      <td>90272</td>\n",
       "      <td>4</td>\n",
       "      <td>6</td>\n",
       "    </tr>\n",
       "    <tr>\n",
       "      <th>1</th>\n",
       "      <td>8284882</td>\n",
       "      <td>621.46</td>\n",
       "      <td>House</td>\n",
       "      <td>Entire home/apt</td>\n",
       "      <td>{TV,\"Cable TV\",Internet,\"Wireless Internet\",\"A...</td>\n",
       "      <td>8</td>\n",
       "      <td>3</td>\n",
       "      <td>Real Bed</td>\n",
       "      <td>strict</td>\n",
       "      <td>True</td>\n",
       "      <td>LA</td>\n",
       "      <td>f</td>\n",
       "      <td>100%</td>\n",
       "      <td>2016-11-01</td>\n",
       "      <td>Pacific Palisades</td>\n",
       "      <td>1</td>\n",
       "      <td>NaN</td>\n",
       "      <td>90272</td>\n",
       "      <td>4</td>\n",
       "      <td>6</td>\n",
       "    </tr>\n",
       "    <tr>\n",
       "      <th>2</th>\n",
       "      <td>9479348</td>\n",
       "      <td>598.90</td>\n",
       "      <td>Apartment</td>\n",
       "      <td>Entire home/apt</td>\n",
       "      <td>{\"Wireless Internet\",\"Air conditioning\",Kitche...</td>\n",
       "      <td>7</td>\n",
       "      <td>2</td>\n",
       "      <td>Real Bed</td>\n",
       "      <td>strict</td>\n",
       "      <td>False</td>\n",
       "      <td>NYC</td>\n",
       "      <td>f</td>\n",
       "      <td>100%</td>\n",
       "      <td>2017-07-03</td>\n",
       "      <td>Hell's Kitchen</td>\n",
       "      <td>1</td>\n",
       "      <td>60.0</td>\n",
       "      <td>10036</td>\n",
       "      <td>3</td>\n",
       "      <td>4</td>\n",
       "    </tr>\n",
       "  </tbody>\n",
       "</table>\n",
       "</div>"
      ],
      "text/plain": [
       "        id   price property_type        room_type  \\\n",
       "0  8284881  621.46         House  Entire home/apt   \n",
       "1  8284882  621.46         House  Entire home/apt   \n",
       "2  9479348  598.90     Apartment  Entire home/apt   \n",
       "\n",
       "                                           amenities  accommodates  bathrooms  \\\n",
       "0  {TV,\"Cable TV\",Internet,\"Wireless Internet\",\"A...             8          3   \n",
       "1  {TV,\"Cable TV\",Internet,\"Wireless Internet\",\"A...             8          3   \n",
       "2  {\"Wireless Internet\",\"Air conditioning\",Kitche...             7          2   \n",
       "\n",
       "   bed_type cancellation_policy  cleaning_fee city host_identity_verified  \\\n",
       "0  Real Bed              strict          True   LA                      f   \n",
       "1  Real Bed              strict          True   LA                      f   \n",
       "2  Real Bed              strict         False  NYC                      f   \n",
       "\n",
       "  host_response_rate  host_since      neighbourhood  number_of_reviews  \\\n",
       "0               100%  2016-11-01  Pacific Palisades                  1   \n",
       "1               100%  2016-11-01  Pacific Palisades                  1   \n",
       "2               100%  2017-07-03     Hell's Kitchen                  1   \n",
       "\n",
       "   review_scores_rating  zipcode  bedrooms  beds  \n",
       "0                   NaN    90272         4     6  \n",
       "1                   NaN    90272         4     6  \n",
       "2                  60.0    10036         3     4  "
      ]
     },
     "execution_count": 2,
     "metadata": {},
     "output_type": "execute_result"
    }
   ],
   "source": [
    "airbnb = pd.read_csv('airbnb_host_searches.csv')\n",
    "airbnb.head(3)"
   ]
  },
  {
   "cell_type": "markdown",
   "metadata": {},
   "source": [
    "## Firsts Tougths\n",
    "* Instead of creating a new host_id, i will drop all the duplicates based on sugested paramters\n",
    "\n",
    "* Create a new column with the Host's popularity\n",
    "\n",
    "* groupby host_popularity and agg[min, mean, max] prices"
   ]
  },
  {
   "cell_type": "markdown",
   "metadata": {},
   "source": [
    "## Data Analysis"
   ]
  },
  {
   "cell_type": "code",
   "execution_count": 4,
   "metadata": {},
   "outputs": [
    {
     "name": "stdout",
     "output_type": "stream",
     "text": [
      "<class 'pandas.core.frame.DataFrame'>\n",
      "RangeIndex: 167 entries, 0 to 166\n",
      "Data columns (total 20 columns):\n",
      " #   Column                  Non-Null Count  Dtype  \n",
      "---  ------                  --------------  -----  \n",
      " 0   id                      167 non-null    int64  \n",
      " 1   price                   167 non-null    float64\n",
      " 2   property_type           167 non-null    object \n",
      " 3   room_type               167 non-null    object \n",
      " 4   amenities               167 non-null    object \n",
      " 5   accommodates            167 non-null    int64  \n",
      " 6   bathrooms               167 non-null    int64  \n",
      " 7   bed_type                167 non-null    object \n",
      " 8   cancellation_policy     167 non-null    object \n",
      " 9   cleaning_fee            167 non-null    bool   \n",
      " 10  city                    167 non-null    object \n",
      " 11  host_identity_verified  167 non-null    object \n",
      " 12  host_response_rate      135 non-null    object \n",
      " 13  host_since              167 non-null    object \n",
      " 14  neighbourhood           152 non-null    object \n",
      " 15  number_of_reviews       167 non-null    int64  \n",
      " 16  review_scores_rating    127 non-null    float64\n",
      " 17  zipcode                 167 non-null    int64  \n",
      " 18  bedrooms                167 non-null    int64  \n",
      " 19  beds                    167 non-null    int64  \n",
      "dtypes: bool(1), float64(2), int64(7), object(10)\n",
      "memory usage: 25.1+ KB\n"
     ]
    }
   ],
   "source": [
    "#checking for missing values and format of columns\n",
    "airbnb.info()"
   ]
  },
  {
   "cell_type": "markdown",
   "metadata": {},
   "source": [
    "There is a few missing values, but not in the main columns\n",
    "\n",
    "How we are not working with dates, there is no need to convert to_datetime"
   ]
  },
  {
   "cell_type": "markdown",
   "metadata": {},
   "source": [
    "## Solution"
   ]
  },
  {
   "cell_type": "code",
   "execution_count": 7,
   "metadata": {},
   "outputs": [],
   "source": [
    "df=airbnb.copy()\n",
    "#Drop duplicates, resulting only in unique hosts\n",
    "df = df.drop_duplicates(subset=['price','zipcode','host_since','number_of_reviews', 'room_type'])\n",
    "\n",
    "#Defining the rule for Host's popularity\n",
    "def to_popularity(n_reviews):\n",
    "    if n_reviews == 0:\n",
    "        return '1- New'\n",
    "    elif n_reviews <=5:\n",
    "        return '2- Rising'\n",
    "    elif n_reviews <=15:\n",
    "        return '3- Trending Up'\n",
    "    elif n_reviews <=40:\n",
    "        return '4- Popular'\n",
    "    elif n_reviews >40:\n",
    "        return '5- Hot'\n",
    "    else:\n",
    "        return 'Error'\n",
    "        \n",
    "df['host_popularity'] = df['number_of_reviews'].apply(to_popularity)\n",
    "output = df.groupby('host_popularity').price.agg(['min', 'mean', 'max']).reset_index()"
   ]
  },
  {
   "cell_type": "markdown",
   "metadata": {},
   "source": [
    "## Final Output"
   ]
  },
  {
   "cell_type": "code",
   "execution_count": 9,
   "metadata": {},
   "outputs": [
    {
     "data": {
      "text/html": [
       "<div>\n",
       "<style scoped>\n",
       "    .dataframe tbody tr th:only-of-type {\n",
       "        vertical-align: middle;\n",
       "    }\n",
       "\n",
       "    .dataframe tbody tr th {\n",
       "        vertical-align: top;\n",
       "    }\n",
       "\n",
       "    .dataframe thead th {\n",
       "        text-align: right;\n",
       "    }\n",
       "</style>\n",
       "<table border=\"1\" class=\"dataframe\">\n",
       "  <thead>\n",
       "    <tr style=\"text-align: right;\">\n",
       "      <th></th>\n",
       "      <th>host_popularity</th>\n",
       "      <th>min</th>\n",
       "      <th>mean</th>\n",
       "      <th>max</th>\n",
       "    </tr>\n",
       "  </thead>\n",
       "  <tbody>\n",
       "    <tr>\n",
       "      <th>0</th>\n",
       "      <td>1- New</td>\n",
       "      <td>313.55</td>\n",
       "      <td>515.92</td>\n",
       "      <td>741.76</td>\n",
       "    </tr>\n",
       "    <tr>\n",
       "      <th>1</th>\n",
       "      <td>2- Rising</td>\n",
       "      <td>355.53</td>\n",
       "      <td>503.85</td>\n",
       "      <td>717.01</td>\n",
       "    </tr>\n",
       "    <tr>\n",
       "      <th>2</th>\n",
       "      <td>3- Trending Up</td>\n",
       "      <td>361.09</td>\n",
       "      <td>476.28</td>\n",
       "      <td>685.65</td>\n",
       "    </tr>\n",
       "    <tr>\n",
       "      <th>3</th>\n",
       "      <td>4- Popular</td>\n",
       "      <td>270.81</td>\n",
       "      <td>472.82</td>\n",
       "      <td>667.83</td>\n",
       "    </tr>\n",
       "    <tr>\n",
       "      <th>4</th>\n",
       "      <td>5- Hot</td>\n",
       "      <td>340.12</td>\n",
       "      <td>464.23</td>\n",
       "      <td>633.51</td>\n",
       "    </tr>\n",
       "  </tbody>\n",
       "</table>\n",
       "</div>"
      ],
      "text/plain": [
       "  host_popularity     min    mean     max\n",
       "0          1- New  313.55  515.92  741.76\n",
       "1       2- Rising  355.53  503.85  717.01\n",
       "2  3- Trending Up  361.09  476.28  685.65\n",
       "3      4- Popular  270.81  472.82  667.83\n",
       "4          5- Hot  340.12  464.23  633.51"
      ]
     },
     "execution_count": 9,
     "metadata": {},
     "output_type": "execute_result"
    }
   ],
   "source": [
    "output.round(2)"
   ]
  }
 ],
 "metadata": {
  "interpreter": {
   "hash": "bfdc4d99f1ab502b0760b435ac150b655942685e3ddd4b4ca9aca6fdd97c2c23"
  },
  "kernelspec": {
   "display_name": "Python 3.8.8 64-bit ('base': conda)",
   "language": "python",
   "name": "python3"
  },
  "language_info": {
   "codemirror_mode": {
    "name": "ipython",
    "version": 3
   },
   "file_extension": ".py",
   "mimetype": "text/x-python",
   "name": "python",
   "nbconvert_exporter": "python",
   "pygments_lexer": "ipython3",
   "version": "3.8.8"
  },
  "orig_nbformat": 4
 },
 "nbformat": 4,
 "nbformat_minor": 2
}
